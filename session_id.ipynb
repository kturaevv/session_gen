{
 "cells": [
  {
   "cell_type": "code",
   "execution_count": 2,
   "id": "6dbbbbfc-d42d-4ab6-9368-49f46b8b741d",
   "metadata": {},
   "outputs": [],
   "source": [
    "import pandas as pd\n",
    "from bucket_generator import generate_session_id\n",
    "from utils import create_dataframe"
   ]
  },
  {
   "cell_type": "code",
   "execution_count": 3,
   "id": "0a3e3730-1d1b-45ff-ab93-1b0def6c6a52",
   "metadata": {},
   "outputs": [],
   "source": [
    "df = create_dataframe(10000)"
   ]
  },
  {
   "cell_type": "code",
   "execution_count": 4,
   "id": "68f8faf1-873f-493c-8699-e476c9099168",
   "metadata": {},
   "outputs": [],
   "source": [
    "df['datetime'] = df['timestamp'].apply(lambda x: pd.Timestamp(x, unit='s'))"
   ]
  },
  {
   "cell_type": "code",
   "execution_count": 5,
   "id": "8b39a65a-e7e9-4736-abe4-d2b3a7ab97d9",
   "metadata": {},
   "outputs": [
    {
     "data": {
      "text/html": [
       "<div>\n",
       "<style scoped>\n",
       "    .dataframe tbody tr th:only-of-type {\n",
       "        vertical-align: middle;\n",
       "    }\n",
       "\n",
       "    .dataframe tbody tr th {\n",
       "        vertical-align: top;\n",
       "    }\n",
       "\n",
       "    .dataframe thead th {\n",
       "        text-align: right;\n",
       "    }\n",
       "</style>\n",
       "<table border=\"1\" class=\"dataframe\">\n",
       "  <thead>\n",
       "    <tr style=\"text-align: right;\">\n",
       "      <th></th>\n",
       "      <th>customer_id</th>\n",
       "      <th>product_id</th>\n",
       "      <th>timestamp</th>\n",
       "      <th>datetime</th>\n",
       "    </tr>\n",
       "  </thead>\n",
       "  <tbody>\n",
       "    <tr>\n",
       "      <th>0</th>\n",
       "      <td>feba17e4-89da-48ba-a79c-a76f01899b96</td>\n",
       "      <td>63</td>\n",
       "      <td>1.668120e+09</td>\n",
       "      <td>2022-11-10 22:37:00</td>\n",
       "    </tr>\n",
       "    <tr>\n",
       "      <th>1</th>\n",
       "      <td>1e0a1bd3-19d2-4b9e-b6f4-29af2731405a</td>\n",
       "      <td>848</td>\n",
       "      <td>1.668163e+09</td>\n",
       "      <td>2022-11-11 10:29:00</td>\n",
       "    </tr>\n",
       "    <tr>\n",
       "      <th>2</th>\n",
       "      <td>2dfa64d4-bde5-4a55-a6bb-9edff1da4865</td>\n",
       "      <td>991</td>\n",
       "      <td>1.668180e+09</td>\n",
       "      <td>2022-11-11 15:23:00</td>\n",
       "    </tr>\n",
       "    <tr>\n",
       "      <th>3</th>\n",
       "      <td>1f614416-d44b-4c59-8486-de3d54a4f372</td>\n",
       "      <td>309</td>\n",
       "      <td>1.668108e+09</td>\n",
       "      <td>2022-11-10 19:21:00</td>\n",
       "    </tr>\n",
       "    <tr>\n",
       "      <th>4</th>\n",
       "      <td>ff46533b-5446-4865-99ab-2786978e11ce</td>\n",
       "      <td>274</td>\n",
       "      <td>1.668107e+09</td>\n",
       "      <td>2022-11-10 19:01:00</td>\n",
       "    </tr>\n",
       "    <tr>\n",
       "      <th>...</th>\n",
       "      <td>...</td>\n",
       "      <td>...</td>\n",
       "      <td>...</td>\n",
       "      <td>...</td>\n",
       "    </tr>\n",
       "    <tr>\n",
       "      <th>9995</th>\n",
       "      <td>c002df6b-bc9c-4d23-8443-4e0425fc946d</td>\n",
       "      <td>169</td>\n",
       "      <td>1.668122e+09</td>\n",
       "      <td>2022-11-10 23:05:00</td>\n",
       "    </tr>\n",
       "    <tr>\n",
       "      <th>9996</th>\n",
       "      <td>f708df26-fed6-46a3-a508-be23feffe70b</td>\n",
       "      <td>965</td>\n",
       "      <td>1.668154e+09</td>\n",
       "      <td>2022-11-11 08:12:00</td>\n",
       "    </tr>\n",
       "    <tr>\n",
       "      <th>9997</th>\n",
       "      <td>8cd1abc9-4b62-4ea4-bd5a-586ec85ab48f</td>\n",
       "      <td>118</td>\n",
       "      <td>1.668134e+09</td>\n",
       "      <td>2022-11-11 02:35:00</td>\n",
       "    </tr>\n",
       "    <tr>\n",
       "      <th>9998</th>\n",
       "      <td>d8085367-0961-4801-b767-66a1cce8f594</td>\n",
       "      <td>371</td>\n",
       "      <td>1.668148e+09</td>\n",
       "      <td>2022-11-11 06:26:00</td>\n",
       "    </tr>\n",
       "    <tr>\n",
       "      <th>9999</th>\n",
       "      <td>2d9f8f52-6d32-48f3-93d1-7743309ff3ec</td>\n",
       "      <td>874</td>\n",
       "      <td>1.668190e+09</td>\n",
       "      <td>2022-11-11 18:00:00</td>\n",
       "    </tr>\n",
       "  </tbody>\n",
       "</table>\n",
       "<p>10000 rows × 4 columns</p>\n",
       "</div>"
      ],
      "text/plain": [
       "                               customer_id  product_id     timestamp  \\\n",
       "0     feba17e4-89da-48ba-a79c-a76f01899b96          63  1.668120e+09   \n",
       "1     1e0a1bd3-19d2-4b9e-b6f4-29af2731405a         848  1.668163e+09   \n",
       "2     2dfa64d4-bde5-4a55-a6bb-9edff1da4865         991  1.668180e+09   \n",
       "3     1f614416-d44b-4c59-8486-de3d54a4f372         309  1.668108e+09   \n",
       "4     ff46533b-5446-4865-99ab-2786978e11ce         274  1.668107e+09   \n",
       "...                                    ...         ...           ...   \n",
       "9995  c002df6b-bc9c-4d23-8443-4e0425fc946d         169  1.668122e+09   \n",
       "9996  f708df26-fed6-46a3-a508-be23feffe70b         965  1.668154e+09   \n",
       "9997  8cd1abc9-4b62-4ea4-bd5a-586ec85ab48f         118  1.668134e+09   \n",
       "9998  d8085367-0961-4801-b767-66a1cce8f594         371  1.668148e+09   \n",
       "9999  2d9f8f52-6d32-48f3-93d1-7743309ff3ec         874  1.668190e+09   \n",
       "\n",
       "                datetime  \n",
       "0    2022-11-10 22:37:00  \n",
       "1    2022-11-11 10:29:00  \n",
       "2    2022-11-11 15:23:00  \n",
       "3    2022-11-10 19:21:00  \n",
       "4    2022-11-10 19:01:00  \n",
       "...                  ...  \n",
       "9995 2022-11-10 23:05:00  \n",
       "9996 2022-11-11 08:12:00  \n",
       "9997 2022-11-11 02:35:00  \n",
       "9998 2022-11-11 06:26:00  \n",
       "9999 2022-11-11 18:00:00  \n",
       "\n",
       "[10000 rows x 4 columns]"
      ]
     },
     "execution_count": 5,
     "metadata": {},
     "output_type": "execute_result"
    }
   ],
   "source": [
    "df"
   ]
  },
  {
   "cell_type": "code",
   "execution_count": 6,
   "id": "97e3915b-fd09-496f-a8b9-c89e02b9e7fb",
   "metadata": {},
   "outputs": [],
   "source": [
    "df['session_id'] = df['timestamp'].apply(lambda x: generate_session_id(x))"
   ]
  },
  {
   "cell_type": "code",
   "execution_count": 14,
   "id": "c2790fe2-d7ef-4b2b-bb40-fbf283a80f4e",
   "metadata": {},
   "outputs": [
    {
     "data": {
      "text/html": [
       "<div>\n",
       "<style scoped>\n",
       "    .dataframe tbody tr th:only-of-type {\n",
       "        vertical-align: middle;\n",
       "    }\n",
       "\n",
       "    .dataframe tbody tr th {\n",
       "        vertical-align: top;\n",
       "    }\n",
       "\n",
       "    .dataframe thead th {\n",
       "        text-align: right;\n",
       "    }\n",
       "</style>\n",
       "<table border=\"1\" class=\"dataframe\">\n",
       "  <thead>\n",
       "    <tr style=\"text-align: right;\">\n",
       "      <th></th>\n",
       "      <th>customer_id</th>\n",
       "      <th>product_id</th>\n",
       "      <th>timestamp</th>\n",
       "      <th>datetime</th>\n",
       "      <th>session_id</th>\n",
       "    </tr>\n",
       "  </thead>\n",
       "  <tbody>\n",
       "    <tr>\n",
       "      <th>710</th>\n",
       "      <td>2e630afc-ed0e-4995-9615-741a748d17fe</td>\n",
       "      <td>957</td>\n",
       "      <td>1.668107e+09</td>\n",
       "      <td>2022-11-10 19:00:00</td>\n",
       "      <td>2120964096</td>\n",
       "    </tr>\n",
       "    <tr>\n",
       "      <th>8221</th>\n",
       "      <td>79549792-a563-4701-ad16-d1711ae45887</td>\n",
       "      <td>13</td>\n",
       "      <td>1.668107e+09</td>\n",
       "      <td>2022-11-10 19:00:00</td>\n",
       "      <td>2120964096</td>\n",
       "    </tr>\n",
       "    <tr>\n",
       "      <th>8917</th>\n",
       "      <td>728d67ab-8f77-4868-a968-90cd84a5b558</td>\n",
       "      <td>848</td>\n",
       "      <td>1.668107e+09</td>\n",
       "      <td>2022-11-10 19:00:00</td>\n",
       "      <td>2120964096</td>\n",
       "    </tr>\n",
       "    <tr>\n",
       "      <th>6548</th>\n",
       "      <td>07de08c2-34a6-4d1e-a29c-3f017948dac0</td>\n",
       "      <td>177</td>\n",
       "      <td>1.668107e+09</td>\n",
       "      <td>2022-11-10 19:00:00</td>\n",
       "      <td>2120964096</td>\n",
       "    </tr>\n",
       "    <tr>\n",
       "      <th>3749</th>\n",
       "      <td>e2bd95f4-3304-45a3-9eba-a9f6d454cc32</td>\n",
       "      <td>587</td>\n",
       "      <td>1.668107e+09</td>\n",
       "      <td>2022-11-10 19:00:00</td>\n",
       "      <td>2120964096</td>\n",
       "    </tr>\n",
       "    <tr>\n",
       "      <th>5218</th>\n",
       "      <td>f37f2d98-04b7-47da-ac30-a6096bfb7255</td>\n",
       "      <td>636</td>\n",
       "      <td>1.668107e+09</td>\n",
       "      <td>2022-11-10 19:01:00</td>\n",
       "      <td>2120964096</td>\n",
       "    </tr>\n",
       "    <tr>\n",
       "      <th>1415</th>\n",
       "      <td>98405ba6-5ed7-47c4-a9df-ecb121e005c3</td>\n",
       "      <td>138</td>\n",
       "      <td>1.668107e+09</td>\n",
       "      <td>2022-11-10 19:01:00</td>\n",
       "      <td>2120964096</td>\n",
       "    </tr>\n",
       "    <tr>\n",
       "      <th>1463</th>\n",
       "      <td>0a769e46-3604-421c-9374-e8a30dd6da38</td>\n",
       "      <td>513</td>\n",
       "      <td>1.668107e+09</td>\n",
       "      <td>2022-11-10 19:01:00</td>\n",
       "      <td>2120964096</td>\n",
       "    </tr>\n",
       "    <tr>\n",
       "      <th>5041</th>\n",
       "      <td>827c888f-8e3b-4469-b109-73670e5eadfe</td>\n",
       "      <td>552</td>\n",
       "      <td>1.668107e+09</td>\n",
       "      <td>2022-11-10 19:01:00</td>\n",
       "      <td>2120964096</td>\n",
       "    </tr>\n",
       "    <tr>\n",
       "      <th>3709</th>\n",
       "      <td>52fe0f00-66e9-4e45-ba7f-72f7dd2f6544</td>\n",
       "      <td>881</td>\n",
       "      <td>1.668107e+09</td>\n",
       "      <td>2022-11-10 19:01:00</td>\n",
       "      <td>2120964096</td>\n",
       "    </tr>\n",
       "  </tbody>\n",
       "</table>\n",
       "</div>"
      ],
      "text/plain": [
       "                               customer_id  product_id     timestamp  \\\n",
       "710   2e630afc-ed0e-4995-9615-741a748d17fe         957  1.668107e+09   \n",
       "8221  79549792-a563-4701-ad16-d1711ae45887          13  1.668107e+09   \n",
       "8917  728d67ab-8f77-4868-a968-90cd84a5b558         848  1.668107e+09   \n",
       "6548  07de08c2-34a6-4d1e-a29c-3f017948dac0         177  1.668107e+09   \n",
       "3749  e2bd95f4-3304-45a3-9eba-a9f6d454cc32         587  1.668107e+09   \n",
       "5218  f37f2d98-04b7-47da-ac30-a6096bfb7255         636  1.668107e+09   \n",
       "1415  98405ba6-5ed7-47c4-a9df-ecb121e005c3         138  1.668107e+09   \n",
       "1463  0a769e46-3604-421c-9374-e8a30dd6da38         513  1.668107e+09   \n",
       "5041  827c888f-8e3b-4469-b109-73670e5eadfe         552  1.668107e+09   \n",
       "3709  52fe0f00-66e9-4e45-ba7f-72f7dd2f6544         881  1.668107e+09   \n",
       "\n",
       "                datetime  session_id  \n",
       "710  2022-11-10 19:00:00  2120964096  \n",
       "8221 2022-11-10 19:00:00  2120964096  \n",
       "8917 2022-11-10 19:00:00  2120964096  \n",
       "6548 2022-11-10 19:00:00  2120964096  \n",
       "3749 2022-11-10 19:00:00  2120964096  \n",
       "5218 2022-11-10 19:01:00  2120964096  \n",
       "1415 2022-11-10 19:01:00  2120964096  \n",
       "1463 2022-11-10 19:01:00  2120964096  \n",
       "5041 2022-11-10 19:01:00  2120964096  \n",
       "3709 2022-11-10 19:01:00  2120964096  "
      ]
     },
     "execution_count": 14,
     "metadata": {},
     "output_type": "execute_result"
    }
   ],
   "source": [
    "df.sort_values(by='datetime', inplace=True)\n",
    "df.head(10)"
   ]
  },
  {
   "cell_type": "code",
   "execution_count": 8,
   "id": "f73d95b9-cfc8-4ab7-b139-112df4529ee5",
   "metadata": {},
   "outputs": [],
   "source": [
    "import datetime\n",
    "from datetime import timedelta\n",
    "import random\n",
    "\n",
    "now = datetime.datetime.now()\n",
    "\n",
    "x = generate_session_id(now.timestamp())\n",
    "y = generate_session_id((now + timedelta(minutes=2)).timestamp())\n",
    "z = generate_session_id((now + timedelta(minutes=3)).timestamp())\n"
   ]
  },
  {
   "cell_type": "code",
   "execution_count": 9,
   "id": "8e5472e1",
   "metadata": {},
   "outputs": [],
   "source": [
    "for i in range(1000):\n",
    "    try:    \n",
    "        dt = datetime.datetime(\n",
    "            random.randint(1971,3000),\n",
    "            random.randint(1,12),\n",
    "            random.randint(1,28),\n",
    "            random.randint(0,23),\n",
    "            random.randint(0,59),\n",
    "        )\n",
    "\n",
    "        generate_session_id(dt.timestamp())\n",
    "    except Exception as e:\n",
    "        print(e, dt)\n",
    "        exit()"
   ]
  },
  {
   "cell_type": "code",
   "execution_count": 12,
   "id": "5ffd6147",
   "metadata": {},
   "outputs": [
    {
     "data": {
      "text/plain": [
       "2066810968"
      ]
     },
     "execution_count": 12,
     "metadata": {},
     "output_type": "execute_result"
    }
   ],
   "source": [
    "dt = datetime.datetime(1971,1,1,1,26)\n",
    "generate_session_id(dt.timestamp())"
   ]
  },
  {
   "cell_type": "code",
   "execution_count": 13,
   "id": "5028b80e",
   "metadata": {},
   "outputs": [
    {
     "data": {
      "text/plain": [
       "31523160.0"
      ]
     },
     "execution_count": 13,
     "metadata": {},
     "output_type": "execute_result"
    }
   ],
   "source": [
    "dt.timestamp()"
   ]
  }
 ],
 "metadata": {
  "kernelspec": {
   "display_name": "Python 3 (ipykernel)",
   "language": "python",
   "name": "python3"
  },
  "language_info": {
   "codemirror_mode": {
    "name": "ipython",
    "version": 3
   },
   "file_extension": ".py",
   "mimetype": "text/x-python",
   "name": "python",
   "nbconvert_exporter": "python",
   "pygments_lexer": "ipython3",
   "version": "3.10.6"
  },
  "vscode": {
   "interpreter": {
    "hash": "27361320291f0d98ca902e3a846961a09bd41220f8bbee27dc2ae48f21f74b18"
   }
  }
 },
 "nbformat": 4,
 "nbformat_minor": 5
}
